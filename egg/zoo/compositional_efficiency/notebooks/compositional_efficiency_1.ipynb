{
 "cells": [
  {
   "cell_type": "code",
   "execution_count": 1,
   "metadata": {},
   "outputs": [],
   "source": [
    "import pathlib\n",
    "import json\n",
    "import matplotlib\n",
    "import matplotlib.pyplot as plt\n",
    "from collections import namedtuple\n",
    "import numpy as np\n",
    "\n",
    "import scipy.stats\n"
   ]
  },
  {
   "cell_type": "code",
   "execution_count": 100,
   "metadata": {},
   "outputs": [],
   "source": [
    "Record = namedtuple('Record', \n",
    "                    ['header', 'train_loss', 'test_loss'])\n",
    "\n",
    "def parse_file(fname):\n",
    "    train_loss = []\n",
    "    test_loss = []\n",
    "    \n",
    "    with open(fname, 'r') as f:\n",
    "        for _ in range(3): f.readline()\n",
    "        \n",
    "        header = eval(f.readline())\n",
    "        \n",
    "        header = [x.split('=') for x in header if '=' in x]\n",
    "        header = [[x[0][2:], x[1]] for x in header]\n",
    "        header = dict(header)\n",
    "        \n",
    "        f.readline()\n",
    "\n",
    "        for line in f:\n",
    "            if line.startswith('#') or line.startswith('submitit') or 'tensor' in line: continue\n",
    "            \n",
    "            try:\n",
    "                line = json.loads(line)\n",
    "            except:\n",
    "                print(line)\n",
    "                return\n",
    "            \n",
    "            if 'mode' in line and line['mode'] == 'train':\n",
    "                train_loss.append(line['acc'])\n",
    "                continue\n",
    "            if 'mode' in line and line['mode'] == 'test':\n",
    "                test_loss.append(line['acc'])\n",
    "                continue        \n",
    "\n",
    "    return Record(header=header, train_loss=train_loss, test_loss=test_loss)                \n",
    "            "
   ]
  },
  {
   "cell_type": "code",
   "execution_count": 101,
   "metadata": {},
   "outputs": [],
   "source": [
    "def time_to_stop(log):\n",
    "    import math\n",
    "    for i, score in enumerate(log.train_loss):\n",
    "        if score == 1.0:\n",
    "            break\n",
    "    assert not math.isnan(i)\n",
    "    return i"
   ]
  },
  {
   "cell_type": "code",
   "execution_count": 102,
   "metadata": {},
   "outputs": [],
   "source": [
    "def get_language_name(datum):\n",
    "    name = datum.header['language']\n",
    "    #position_scrambled = False #datum.header['scramble_positions'] == '1'\n",
    "    #loss = datum.header['loss_type']\n",
    "    #mixer = str(datum.header['mixers'])\n",
    "    return name #+ '-' + mixer #('-pos_scrambled' if position_scrambled else '')"
   ]
  },
  {
   "cell_type": "code",
   "execution_count": 103,
   "metadata": {},
   "outputs": [],
   "source": [
    "paths = [\n",
    "    #nv =31\n",
    "    #'/private/home/kharitonov/nest/compositional_efficiency/2020_02_08_05_44_19/',\n",
    "    #'/private/home/kharitonov/nest/compositional_efficiency/2020_02_08_06_29_17/'\n",
    "    # nv 11\n",
    "    #'/private/home/kharitonov/nest/compositional_efficiency/2020_02_08_06_57_04/'\n",
    "    # nv 17\n",
    "    #'/private/home/kharitonov/nest/compositional_efficiency/2020_02_08_07_03_46'\n",
    "    # nv 17 shuffled data\n",
    "    #'/private/home/kharitonov/nest/compositional_efficiency/2020_02_08_07_12_13/'\n",
    "    \n",
    "    # nv 31 shuffled\n",
    "    # lstm\n",
    "    #'/private/home/kharitonov/nest/compositional_efficiency/2020_02_08_07_26_14/',\n",
    "    # gru\n",
    "    #'/private/home/kharitonov/nest/compositional_efficiency/2020_02_08_08_31_11/',\n",
    "    # gru add\n",
    "    #'/private/home/kharitonov/nest/compositional_efficiency/2020_02_08_08_50_29/'\n",
    "    \n",
    "    # redo everything with test (lstm, gru, gru add)\n",
    "    '/private/home/kharitonov/nest/compositional_efficiency/2020_02_09_03_33_26/'\n",
    "]\n",
    "\n",
    "data = []\n",
    "\n",
    "for path in paths:\n",
    "    for fname in pathlib.Path(path).rglob('*.out'):\n",
    "        parsed = parse_file(fname)\n",
    "        data.append(parsed)"
   ]
  },
  {
   "cell_type": "code",
   "execution_count": 104,
   "metadata": {},
   "outputs": [
    {
     "data": {
      "text/plain": [
       "[0.11464285850524902,\n",
       " 0.7167857170104981,\n",
       " 0.9425,\n",
       " 0.97375,\n",
       " 0.995,\n",
       " 0.9880357170104981,\n",
       " 0.99625,\n",
       " 1.0]"
      ]
     },
     "execution_count": 104,
     "metadata": {},
     "output_type": "execute_result"
    }
   ],
   "source": [
    "data[0].train_loss"
   ]
  },
  {
   "cell_type": "code",
   "execution_count": 116,
   "metadata": {},
   "outputs": [
    {
     "name": "stdout",
     "output_type": "stream",
     "text": [
      "Task: autoenc\n",
      "\tidentity, mean: 6.2, std: 0.36878177829171543\n",
      "\trotated, mean: 24.2, std: 3.088041450499005\n",
      "Task: linear\n",
      "\tidentity, mean: 25.4, std: 0.7099295739719539\n",
      "\trotated, mean: 28.6, std: 2.1456933611306157\n",
      "Task: mixed\n",
      "\tidentity, mean: 23.4, std: 1.9959959919799437\n",
      "\trotated, mean: 5.4, std: 0.25298221281347033\n"
     ]
    }
   ],
   "source": [
    "language2caption = {\n",
    "    'identity': 'Identity',\n",
    "    'rotated': 'Rotated',\n",
    "}\n",
    "\n",
    "\n",
    "for task in [\"autoenc\", \"linear\", \"mixed\"]:\n",
    "    for receiver_cell in ['lstm']:\n",
    "                filtered = [d for d in data if \\\n",
    "                            d.header['loss_type'] == task and \\\n",
    "                            d.header['receiver_cell'] == receiver_cell and \\\n",
    "                            d.train_loss[-1] == 1.0\n",
    "                           ]\n",
    "                \n",
    "                assert len(filtered) > 0\n",
    "                \n",
    "                languages = sorted(list(set(get_language_name(x) for x in filtered)))\n",
    "                \n",
    "                print(\"Task:\", task)\n",
    "                \n",
    "                for language in languages:\n",
    "                    measurements = [d for d in filtered if get_language_name(d) == language]\n",
    "                    n = len(measurements)\n",
    "                    time = [time_to_stop(x) for x in measurements]\n",
    "\n",
    "                    mean, std = np.mean(time), np.std(time) / np.sqrt(n)\n",
    "                    print(f\"\\t{language}, mean: {mean}, std: {std}\")\n"
   ]
  },
  {
   "cell_type": "code",
   "execution_count": 118,
   "metadata": {},
   "outputs": [
    {
     "name": "stdout",
     "output_type": "stream",
     "text": [
      "Task: autoenc\n",
      "\tidentity, mean: 0.9466319626285914, std: 0.011364667742259787\n",
      "\trotated, mean: 0.09244882209427224, std: 0.017814546368060246\n",
      "Task: linear\n",
      "\tidentity, mean: 0.0002232142857142857, std: 0.00021756237376805722\n",
      "\trotated, mean: 0.0, std: 0.0\n",
      "Task: mixed\n",
      "\tidentity, mean: 0.06329070096392007, std: 0.011520032923165285\n",
      "\trotated, mean: 0.9675754708903176, std: 0.00335899570636066\n"
     ]
    }
   ],
   "source": [
    "language2caption = {\n",
    "    'identity': 'Identity',\n",
    "    'rotated': 'Rotated',\n",
    "}\n",
    "\n",
    "\n",
    "for task in [\"autoenc\", \"linear\", \"mixed\"]:\n",
    "    for receiver_cell in ['gru']:\n",
    "                filtered = [d for d in data if \\\n",
    "                            d.header['loss_type'] == task and \\\n",
    "                            d.header['receiver_cell'] == receiver_cell and \\\n",
    "                            d.train_loss[-1] == 1.0\n",
    "                           ]\n",
    "                \n",
    "                assert len(filtered) > 0\n",
    "                \n",
    "                languages = sorted(list(set(get_language_name(x) for x in filtered)))\n",
    "                \n",
    "                print(\"Task:\", task)\n",
    "                \n",
    "                for language in languages:\n",
    "                    measurements = [d for d in filtered if get_language_name(d) == language]\n",
    "                    n = len(measurements)\n",
    "                    acc = [x.test_loss[-1] for x in measurements]\n",
    "\n",
    "                    mean, std = np.mean(acc), np.std(acc) / np.sqrt(n)\n",
    "                    print(f\"\\t{language}, mean: {mean}, std: {std}\")\n"
   ]
  },
  {
   "cell_type": "code",
   "execution_count": 39,
   "metadata": {},
   "outputs": [],
   "source": [
    "def mean_std(data):\n",
    "    means = []\n",
    "    stds = []\n",
    "    \n",
    "    losses = [d.test_loss for d in data]\n",
    "    \n",
    "    for l in zip(*losses):\n",
    "        means.append(np.mean(l))\n",
    "        stds.append(np.std(l) / np.sqrt(len(l)))\n",
    "        \n",
    "    return means, stds"
   ]
  },
  {
   "cell_type": "code",
   "execution_count": 40,
   "metadata": {},
   "outputs": [
    {
     "ename": "NameError",
     "evalue": "name 'no_rotation' is not defined",
     "output_type": "error",
     "traceback": [
      "\u001b[0;31m---------------------------------------------------------------------------\u001b[0m",
      "\u001b[0;31mNameError\u001b[0m                                 Traceback (most recent call last)",
      "\u001b[0;32m<ipython-input-40-06799d2f4615>\u001b[0m in \u001b[0;36m<module>\u001b[0;34m\u001b[0m\n\u001b[1;32m      1\u001b[0m for slice, name, color in [\n\u001b[0;32m----> 2\u001b[0;31m         \u001b[0;34m(\u001b[0m\u001b[0mno_rotation\u001b[0m\u001b[0;34m,\u001b[0m \u001b[0;34m'no rotation'\u001b[0m\u001b[0;34m,\u001b[0m \u001b[0;34m'r'\u001b[0m\u001b[0;34m)\u001b[0m\u001b[0;34m,\u001b[0m\u001b[0;34m\u001b[0m\u001b[0;34m\u001b[0m\u001b[0m\n\u001b[0m\u001b[1;32m      3\u001b[0m         \u001b[0;34m(\u001b[0m\u001b[0mrotation\u001b[0m\u001b[0;34m,\u001b[0m \u001b[0;34m'rotation'\u001b[0m\u001b[0;34m,\u001b[0m \u001b[0;34m'black'\u001b[0m\u001b[0;34m)\u001b[0m\u001b[0;34m,\u001b[0m\u001b[0;34m\u001b[0m\u001b[0;34m\u001b[0m\u001b[0m\n\u001b[1;32m      4\u001b[0m         (swap_data, 'swap', 'blue')]:\n\u001b[1;32m      5\u001b[0m     \u001b[0mmeans\u001b[0m\u001b[0;34m,\u001b[0m \u001b[0mstds\u001b[0m \u001b[0;34m=\u001b[0m \u001b[0mmean_std\u001b[0m\u001b[0;34m(\u001b[0m\u001b[0mslice\u001b[0m\u001b[0;34m)\u001b[0m\u001b[0;34m\u001b[0m\u001b[0;34m\u001b[0m\u001b[0m\n",
      "\u001b[0;31mNameError\u001b[0m: name 'no_rotation' is not defined"
     ]
    }
   ],
   "source": [
    "for slice, name, color in [\n",
    "        (no_rotation, 'no rotation', 'r'), \n",
    "        (rotation, 'rotation', 'black'),\n",
    "        (swap_data, 'swap', 'blue')]:\n",
    "    means, stds = mean_std(slice)\n",
    "    xs = list(range(1, len(means) + 1))\n",
    "    #plt.plot(means[:3], label=name, color=color)\n",
    "    plt.errorbar(x=xs[:20], y=means[:20], yerr=stds[:20], color=color, alpha=0.75, label=name)\n",
    "plt.xlabel('Epoch')\n",
    "plt.ylabel('MSE')\n",
    "\n",
    "plt.legend()"
   ]
  },
  {
   "cell_type": "code",
   "execution_count": 171,
   "metadata": {},
   "outputs": [
    {
     "ename": "NameError",
     "evalue": "name 'rotation' is not defined",
     "output_type": "error",
     "traceback": [
      "\u001b[0;31m---------------------------------------------------------------------------\u001b[0m",
      "\u001b[0;31mNameError\u001b[0m                                 Traceback (most recent call last)",
      "\u001b[0;32m<ipython-input-171-0ca5f6b3e9f0>\u001b[0m in \u001b[0;36m<module>\u001b[0;34m\u001b[0m\n\u001b[0;32m----> 1\u001b[0;31m \u001b[0mmean_std\u001b[0m\u001b[0;34m(\u001b[0m\u001b[0mrotation\u001b[0m\u001b[0;34m)\u001b[0m\u001b[0;34m\u001b[0m\u001b[0;34m\u001b[0m\u001b[0m\n\u001b[0m",
      "\u001b[0;31mNameError\u001b[0m: name 'rotation' is not defined"
     ]
    }
   ],
   "source": [
    "mean_std(rotation)"
   ]
  },
  {
   "cell_type": "code",
   "execution_count": null,
   "metadata": {},
   "outputs": [],
   "source": []
  },
  {
   "cell_type": "code",
   "execution_count": null,
   "metadata": {},
   "outputs": [],
   "source": []
  }
 ],
 "metadata": {
  "kernelspec": {
   "display_name": "Python 3",
   "language": "python",
   "name": "python3"
  },
  "language_info": {
   "codemirror_mode": {
    "name": "ipython",
    "version": 3
   },
   "file_extension": ".py",
   "mimetype": "text/x-python",
   "name": "python",
   "nbconvert_exporter": "python",
   "pygments_lexer": "ipython3",
   "version": "3.7.3"
  }
 },
 "nbformat": 4,
 "nbformat_minor": 2
}
